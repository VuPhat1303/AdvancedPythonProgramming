{
  "nbformat": 4,
  "nbformat_minor": 0,
  "metadata": {
    "colab": {
      "name": "Bản sao của Colaboratory chào mừng bạn!",
      "provenance": [],
      "collapsed_sections": [],
      "include_colab_link": true
    },
    "kernelspec": {
      "display_name": "Python 3",
      "name": "python3"
    }
  },
  "cells": [
    {
      "cell_type": "markdown",
      "metadata": {
        "id": "view-in-github",
        "colab_type": "text"
      },
      "source": [
        "<a href=\"https://colab.research.google.com/github/VuPhat1303/AdvancedPythonProgramming/blob/main/lab02.ipynb\" target=\"_parent\"><img src=\"https://colab.research.google.com/assets/colab-badge.svg\" alt=\"Open In Colab\"/></a>"
      ]
    },
    {
      "cell_type": "code",
      "metadata": {
        "id": "JOgNkUZQfPE-",
        "colab": {
          "base_uri": "https://localhost:8080/",
          "height": 35
        },
        "outputId": "bb1c81af-5e7a-4a16-ce0f-81cfb8a57b70"
      },
      "source": [
        "kingdoms = ['Bacteria', 'Protozoa', 'Chromista','Plantae', 'Fungi','Animalia']\n",
        "kingdoms[0]"
      ],
      "execution_count": null,
      "outputs": [
        {
          "output_type": "execute_result",
          "data": {
            "application/vnd.google.colaboratory.intrinsic+json": {
              "type": "string"
            },
            "text/plain": [
              "'Bacteria'"
            ]
          },
          "metadata": {},
          "execution_count": 4
        }
      ]
    },
    {
      "cell_type": "markdown",
      "metadata": {
        "id": "lS3KQZOvh3IB"
      },
      "source": [
        "# Mục mới"
      ]
    },
    {
      "cell_type": "code",
      "metadata": {
        "id": "vgftYrHGfyz1",
        "colab": {
          "base_uri": "https://localhost:8080/",
          "height": 35
        },
        "outputId": "9635a96a-9b06-4f72-87c9-1d685ae43165"
      },
      "source": [
        "kingdoms[5]"
      ],
      "execution_count": null,
      "outputs": [
        {
          "output_type": "execute_result",
          "data": {
            "application/vnd.google.colaboratory.intrinsic+json": {
              "type": "string"
            },
            "text/plain": [
              "'Animalia'"
            ]
          },
          "metadata": {},
          "execution_count": 2
        }
      ]
    },
    {
      "cell_type": "code",
      "metadata": {
        "id": "L3jC2u-7f9Mu",
        "colab": {
          "base_uri": "https://localhost:8080/"
        },
        "outputId": "bd02b1f1-9956-4444-d25d-ed5053025ad0"
      },
      "source": [
        "kingdoms[2:5]"
      ],
      "execution_count": null,
      "outputs": [
        {
          "output_type": "execute_result",
          "data": {
            "text/plain": [
              "['Chromista', 'Plantae', 'Fungi']"
            ]
          },
          "metadata": {},
          "execution_count": 5
        }
      ]
    },
    {
      "cell_type": "code",
      "metadata": {
        "id": "mw7F5MmjgA4P",
        "colab": {
          "base_uri": "https://localhost:8080/"
        },
        "outputId": "0b7e85a4-fb70-42da-f152-de0cf58e88c7"
      },
      "source": [
        "kingdoms[4:]"
      ],
      "execution_count": null,
      "outputs": [
        {
          "output_type": "execute_result",
          "data": {
            "text/plain": [
              "['Fungi', 'Animalia']"
            ]
          },
          "metadata": {},
          "execution_count": 7
        }
      ]
    },
    {
      "cell_type": "code",
      "metadata": {
        "id": "1squk_MqgIwm",
        "colab": {
          "base_uri": "https://localhost:8080/",
          "height": 35
        },
        "outputId": "bcddc45f-438e-4c0e-f1bb-da94758d06ba"
      },
      "source": [
        "kingdoms[-6]"
      ],
      "execution_count": null,
      "outputs": [
        {
          "output_type": "execute_result",
          "data": {
            "application/vnd.google.colaboratory.intrinsic+json": {
              "type": "string"
            },
            "text/plain": [
              "'Bacteria'"
            ]
          },
          "metadata": {},
          "execution_count": 8
        }
      ]
    },
    {
      "cell_type": "code",
      "metadata": {
        "id": "K7uZBJregK3e",
        "colab": {
          "base_uri": "https://localhost:8080/",
          "height": 35
        },
        "outputId": "c5054ac1-09fe-4b30-9e8d-373471c166bd"
      },
      "source": [
        "\n",
        "kingdoms[-1]"
      ],
      "execution_count": null,
      "outputs": [
        {
          "output_type": "execute_result",
          "data": {
            "application/vnd.google.colaboratory.intrinsic+json": {
              "type": "string"
            },
            "text/plain": [
              "'Animalia'"
            ]
          },
          "metadata": {},
          "execution_count": 9
        }
      ]
    },
    {
      "cell_type": "code",
      "metadata": {
        "id": "mKHcoLnrgMwR",
        "colab": {
          "base_uri": "https://localhost:8080/"
        },
        "outputId": "e557d612-cd98-4da5-ee71-a78cdd118e9c"
      },
      "source": [
        "kingdoms[-6:-3]"
      ],
      "execution_count": null,
      "outputs": [
        {
          "output_type": "execute_result",
          "data": {
            "text/plain": [
              "['Bacteria', 'Protozoa', 'Chromista']"
            ]
          },
          "metadata": {},
          "execution_count": 10
        }
      ]
    },
    {
      "cell_type": "code",
      "metadata": {
        "id": "DPKvOhwlgSJ-",
        "colab": {
          "base_uri": "https://localhost:8080/"
        },
        "outputId": "bd644053-7d7a-4a22-bedd-fc4d21717284"
      },
      "source": [
        "kingdoms[-4:-1]"
      ],
      "execution_count": null,
      "outputs": [
        {
          "output_type": "execute_result",
          "data": {
            "text/plain": [
              "['Chromista', 'Plantae', 'Fungi']"
            ]
          },
          "metadata": {},
          "execution_count": 11
        }
      ]
    },
    {
      "cell_type": "code",
      "metadata": {
        "id": "Dj_Onn2ef2j-",
        "colab": {
          "base_uri": "https://localhost:8080/"
        },
        "outputId": "30bf6c10-53ca-44e5-bbca-a49434aaa055"
      },
      "source": [
        "kingdoms[:3]"
      ],
      "execution_count": null,
      "outputs": [
        {
          "output_type": "execute_result",
          "data": {
            "text/plain": [
              "['Bacteria', 'Protozoa', 'Chromista']"
            ]
          },
          "metadata": {},
          "execution_count": 3
        }
      ]
    },
    {
      "cell_type": "code",
      "metadata": {
        "id": "ODjq17eZgA-F",
        "colab": {
          "base_uri": "https://localhost:8080/"
        },
        "outputId": "d6b5a5b2-ec76-4783-a15e-3006713879c0"
      },
      "source": [
        "\n",
        "kingdoms[1:0]"
      ],
      "execution_count": null,
      "outputs": [
        {
          "output_type": "execute_result",
          "data": {
            "text/plain": [
              "[]"
            ]
          },
          "metadata": {},
          "execution_count": 6
        }
      ]
    },
    {
      "cell_type": "code",
      "metadata": {
        "id": "2CgW3vK1gUom",
        "colab": {
          "base_uri": "https://localhost:8080/"
        },
        "outputId": "fece0d06-7c98-41f4-e7c9-128e8ecf2f2d"
      },
      "source": [
        "kingdoms[-2:]"
      ],
      "execution_count": null,
      "outputs": [
        {
          "output_type": "execute_result",
          "data": {
            "text/plain": [
              "['Fungi', 'Animalia']"
            ]
          },
          "metadata": {},
          "execution_count": 12
        }
      ]
    },
    {
      "cell_type": "code",
      "metadata": {
        "id": "JZ16fuyxgUvN",
        "colab": {
          "base_uri": "https://localhost:8080/"
        },
        "outputId": "90ac0cdd-db91-4a00-fbbf-7cba2b1655ee"
      },
      "source": [
        "kingdoms[-1:-2]"
      ],
      "execution_count": null,
      "outputs": [
        {
          "output_type": "execute_result",
          "data": {
            "text/plain": [
              "[]"
            ]
          },
          "metadata": {},
          "execution_count": 13
        }
      ]
    },
    {
      "cell_type": "code",
      "metadata": {
        "id": "hV_DaQAsgtRm",
        "colab": {
          "base_uri": "https://localhost:8080/"
        },
        "outputId": "e01d3f15-70ff-47a9-eed9-a4aa0da98966"
      },
      "source": [
        "appointments =['9:00','10:30','14:00','15:00','15:30']\n",
        "appointments.append('16:30')\n",
        "appointments"
      ],
      "execution_count": null,
      "outputs": [
        {
          "output_type": "execute_result",
          "data": {
            "text/plain": [
              "['9:00', '10:30', '14:00', '15:00', '15:30', '16:30']"
            ]
          },
          "metadata": {},
          "execution_count": 14
        }
      ]
    },
    {
      "cell_type": "code",
      "metadata": {
        "id": "2QssoBpRhB2_",
        "colab": {
          "base_uri": "https://localhost:8080/"
        },
        "outputId": "45462aeb-a093-4f6b-ad2b-c24fa5191035"
      },
      "source": [
        "appointments += ['16:30']\n",
        "appointments"
      ],
      "execution_count": null,
      "outputs": [
        {
          "output_type": "execute_result",
          "data": {
            "text/plain": [
              "['9:00', '10:30', '14:00', '15:00', '15:30', '16:30', '16:30', '16:30']"
            ]
          },
          "metadata": {},
          "execution_count": 16
        }
      ]
    },
    {
      "cell_type": "code",
      "metadata": {
        "id": "N7YNZM7uhrJ_",
        "colab": {
          "base_uri": "https://localhost:8080/"
        },
        "outputId": "f3113c19-860e-4189-b938-266f3b38958a"
      },
      "source": [
        "ids= [4353, 2314, 2956, 3382, 9362, 3900]\n",
        "ids.remove(3382)\n",
        "ids"
      ],
      "execution_count": null,
      "outputs": [
        {
          "output_type": "execute_result",
          "data": {
            "text/plain": [
              "[4353, 2314, 2956, 9362, 3900]"
            ]
          },
          "metadata": {},
          "execution_count": 17
        }
      ]
    },
    {
      "cell_type": "code",
      "metadata": {
        "id": "1Ha8Yu_Phthe",
        "colab": {
          "base_uri": "https://localhost:8080/"
        },
        "outputId": "5d6242ce-04d6-4d39-bc08-af3efb734862"
      },
      "source": [
        "ids.index(9362)\n",
        "ids"
      ],
      "execution_count": null,
      "outputs": [
        {
          "output_type": "execute_result",
          "data": {
            "text/plain": [
              "[4353, 2314, 2956, 9362, 3900]"
            ]
          },
          "metadata": {},
          "execution_count": 18
        }
      ]
    }
  ]
}