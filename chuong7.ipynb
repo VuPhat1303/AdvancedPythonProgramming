{
  "nbformat": 4,
  "nbformat_minor": 0,
  "metadata": {
    "colab": {
      "name": "Untitled0.ipynb",
      "provenance": [],
      "collapsed_sections": [],
      "authorship_tag": "ABX9TyPmv/OhdmJYsOfbH6y11AnI",
      "include_colab_link": true
    },
    "kernelspec": {
      "name": "python3",
      "display_name": "Python 3"
    },
    "language_info": {
      "name": "python"
    }
  },
  "cells": [
    {
      "cell_type": "markdown",
      "metadata": {
        "id": "view-in-github",
        "colab_type": "text"
      },
      "source": [
        "<a href=\"https://colab.research.google.com/github/VuPhat1303/AdvancedPythonProgramming/blob/main/chuong7.ipynb\" target=\"_parent\"><img src=\"https://colab.research.google.com/assets/colab-badge.svg\" alt=\"Open In Colab\"/></a>"
      ]
    },
    {
      "cell_type": "code",
      "metadata": {
        "colab": {
          "base_uri": "https://localhost:8080/"
        },
        "id": "RHksmmV3G4Pe",
        "outputId": "3c9ee777-35ab-486d-de69-ba6fe9018dc0"
      },
      "source": [
        "print ( 'xin chào' . upper ())\n",
        "\n",
        "\n",
        "print ( 'hahahahahaha' . swapcase ())\n"
      ],
      "execution_count": 4,
      "outputs": [
        {
          "output_type": "stream",
          "name": "stdout",
          "text": [
            "XIN CHÀO\n",
            "HAHAHAHAHAHA\n"
          ]
        }
      ]
    },
    {
      "cell_type": "code",
      "metadata": {
        "colab": {
          "base_uri": "https://localhost:8080/"
        },
        "id": "YjVBEAPSHSih",
        "outputId": "8cdb49b6-a24d-4742-c056-d29a76e10e79"
      },
      "source": [
        "\n",
        "print ( 'ahahahahahahaha' . swapcase ())"
      ],
      "execution_count": 5,
      "outputs": [
        {
          "output_type": "stream",
          "name": "stdout",
          "text": [
            "AHAHAHAHAHAHAHA\n"
          ]
        }
      ]
    },
    {
      "cell_type": "code",
      "metadata": {
        "id": "PyrKTj40HboH"
      },
      "source": [
        "\n"
      ],
      "execution_count": null,
      "outputs": []
    },
    {
      "cell_type": "code",
      "metadata": {
        "colab": {
          "base_uri": "https://localhost:8080/"
        },
        "id": "e6D3zmp2Hhd4",
        "outputId": "89b78ca0-4ec5-4c48-f415-6c505cbd7654"
      },
      "source": [
        "print ( 'ASDDD11' . isupper ())"
      ],
      "execution_count": 11,
      "outputs": [
        {
          "output_type": "stream",
          "name": "stdout",
          "text": [
            "True\n"
          ]
        }
      ]
    },
    {
      "cell_type": "code",
      "metadata": {
        "colab": {
          "base_uri": "https://localhost:8080/"
        },
        "id": "vSbpdllQHuiI",
        "outputId": "ee774d76-feb7-49de-e01e-a6c05a5f3e85"
      },
      "source": [
        "print ( 'adaadada' . count ( 'a' ))"
      ],
      "execution_count": 10,
      "outputs": [
        {
          "output_type": "stream",
          "name": "stdout",
          "text": [
            "5\n"
          ]
        }
      ]
    }
  ]
}