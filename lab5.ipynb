{
  "nbformat": 4,
  "nbformat_minor": 0,
  "metadata": {
    "colab": {
      "name": "Colaboratory chào mừng bạn!",
      "provenance": [],
      "collapsed_sections": [],
      "toc_visible": true,
      "include_colab_link": true
    },
    "kernelspec": {
      "display_name": "Python 3",
      "name": "python3"
    }
  },
  "cells": [
    {
      "cell_type": "markdown",
      "metadata": {
        "id": "view-in-github",
        "colab_type": "text"
      },
      "source": [
        "<a href=\"https://colab.research.google.com/github/VuPhat1303/AdvancedPythonProgramming/blob/main/lab5.ipynb\" target=\"_parent\"><img src=\"https://colab.research.google.com/assets/colab-badge.svg\" alt=\"Open In Colab\"/></a>"
      ]
    },
    {
      "cell_type": "code",
      "metadata": {
        "id": "dARzEzljS5kt"
      },
      "source": [
        "class Country:\n",
        "  def __init__(self, name: str, population: int, area:float):\n",
        "    self.name = name\n",
        "    self.population = population\n",
        "    self.area = area\n",
        "  def is_larger(self, other):\n",
        "    if (self.area > other.area):\n",
        "      return True\n",
        "    else:\n",
        "      return False\n",
        "  def population_destiny(self):\n",
        "    return self.population/self.area\n",
        "  def __str__ (self):\n",
        "    return ('{} has a population of {} and is {} sqare km'.format(self.name, self.population, self.area))\n",
        "  def __repr__(self):\n",
        "    return (\"Country('{0}', {1}, {2})\".format(self.name, self.population, self.area))\n",
        "usa = Country('United States of America', 313914040, 9826675)\n",
        "canada = Country(\"Cananda\", 34482779, 9984670)\n",
        "mexico = Country('Mexico', 112336538, 1943950)"
      ],
      "execution_count": 14,
      "outputs": []
    },
    {
      "cell_type": "code",
      "metadata": {
        "id": "P64rlfJPTJF2",
        "outputId": "31409764-e5b4-431c-d1d2-ada5ada5ab16",
        "colab": {
          "base_uri": "https://localhost:8080/"
        }
      },
      "source": [
        "#Câu a\n",
        "print(canada.name)\n",
        "print(canada.population)\n",
        "print(canada.area)"
      ],
      "execution_count": 15,
      "outputs": [
        {
          "output_type": "stream",
          "name": "stdout",
          "text": [
            "Cananda\n",
            "34482779\n",
            "9984670\n"
          ]
        }
      ]
    },
    {
      "cell_type": "code",
      "metadata": {
        "id": "KsFfh9IuTJNa",
        "outputId": "8d20ff2c-20dd-4c65-cbcc-b375faa327bc",
        "colab": {
          "base_uri": "https://localhost:8080/"
        }
      },
      "source": [
        "#Câu b\n",
        "print(canada.is_larger(usa))\n",
        "print(usa.is_larger(canada))"
      ],
      "execution_count": 16,
      "outputs": [
        {
          "output_type": "stream",
          "name": "stdout",
          "text": [
            "True\n",
            "False\n"
          ]
        }
      ]
    },
    {
      "cell_type": "code",
      "metadata": {
        "id": "dVf9a-S6TMzw"
      },
      "source": [
        "#Câu c\n",
        "print(canada.population_destiny()"
      ],
      "execution_count": null,
      "outputs": []
    },
    {
      "cell_type": "code",
      "metadata": {
        "id": "vMt619_4TOIR",
        "outputId": "2ab60f87-80b1-4d67-c97e-7ec47ae85893",
        "colab": {
          "base_uri": "https://localhost:8080/"
        }
      },
      "source": [
        "usa = Country('United States of America', 313914040, 9826675)\n",
        "print(usa)"
      ],
      "execution_count": 19,
      "outputs": [
        {
          "output_type": "stream",
          "name": "stdout",
          "text": [
            "United States of America has a population of 313914040 and is 9826675 sqare km\n"
          ]
        }
      ]
    },
    {
      "cell_type": "code",
      "metadata": {
        "id": "ml_duzUZTOKi",
        "outputId": "9aff2fb3-5264-44db-f79c-827fa204f8cb",
        "colab": {
          "base_uri": "https://localhost:8080/"
        }
      },
      "source": [
        "\n",
        "#Câu e\n",
        "canada = Country('Canada', 34482779, 9984670)\n",
        "print(canada)\n",
        "print([canada])"
      ],
      "execution_count": 18,
      "outputs": [
        {
          "output_type": "stream",
          "name": "stdout",
          "text": [
            "Canada has a population of 34482779 and is 9984670 sqare km\n",
            "[Country('Canada', 34482779, 9984670)]\n"
          ]
        }
      ]
    },
    {
      "cell_type": "markdown",
      "metadata": {
        "id": "cnXRo06uTZ35"
      },
      "source": [
        "CÂU 2:\n"
      ]
    },
    {
      "cell_type": "code",
      "metadata": {
        "id": "eun1RF1sTcc_",
        "outputId": "c16a2d2c-674f-445c-8676-dfb801263c76",
        "colab": {
          "base_uri": "https://localhost:8080/"
        }
      },
      "source": [
        "class Continent(Country):\n",
        "    def __init__(self,name, countries):\n",
        "      self.name = name\n",
        "      self.countries = countries\n",
        "    def total_population(self):\n",
        "      total = 0\n",
        "      for country in north_america.countries:\n",
        "        total += country.population\n",
        "      return total\n",
        "    def america(self):\n",
        "      num = 0\n",
        "      for country in north_america.countries:\n",
        "        num+=1\n",
        "        print(country)\n",
        "      return ''\n",
        "mexico = Country('Mexico', 112336538, 1943950)\n",
        "countries = [canada, usa, mexico]\n",
        "north_america = Continent('North America', countries)\n",
        "##Câu a\n",
        "print(mexico)\n",
        "print(north_america.name)\n",
        "print('--------------------------------')\n",
        "##Câu b\n",
        "print('The total population of the three countries is :')\n",
        "print(north_america.total_population())\n",
        "print('--------------------------------')\n",
        "##Câu c\n",
        "print(north_america.america())"
      ],
      "execution_count": 21,
      "outputs": [
        {
          "output_type": "stream",
          "name": "stdout",
          "text": [
            "Mexico has a population of 112336538 and is 1943950 sqare km\n",
            "North America\n",
            "--------------------------------\n",
            "The total population of the three countries is :\n",
            "460733357\n",
            "--------------------------------\n",
            "Canada has a population of 34482779 and is 9984670 sqare km\n",
            "United States of America has a population of 313914040 and is 9826675 sqare km\n",
            "Mexico has a population of 112336538 and is 1943950 sqare km\n",
            "\n"
          ]
        }
      ]
    },
    {
      "cell_type": "markdown",
      "metadata": {
        "id": "7RSQ936nTsK7"
      },
      "source": [
        "CÂU 3:"
      ]
    },
    {
      "cell_type": "code",
      "metadata": {
        "id": "ag7r5RUZTtBB"
      },
      "source": [
        "class Student:\n",
        "  def __init__(self, name:str, ID: int, this_course: str, last_course: str):\n",
        "    self.name = name\n",
        "    self.ID = ID\n",
        "    self.this_course = this_course\n",
        "    self.last_course = last_course\n",
        "  def __str__(self):\n",
        "    return('-Name : {} \\n-ID : {} \\n-this_course: {} \\n-last_course: {}'.format(self.name, self.ID, self.this_course, self.last_course))"
      ],
      "execution_count": 25,
      "outputs": []
    },
    {
      "cell_type": "code",
      "metadata": {
        "id": "HNvrLsbVTwr1"
      },
      "source": [
        "class Member: \n",
        "  def __init__(self, course: str, ListMember: str):\n",
        "    self.course = course\n",
        "    self.ListMember = ListMember\n",
        "  def __repr__(self):\n",
        "    return('-Course : {} \\n-ListMember : {}'.format(self.course, self.ListMember))"
      ],
      "execution_count": 24,
      "outputs": []
    },
    {
      "cell_type": "code",
      "metadata": {
        "id": "OLj8Z8_jTzw3"
      },
      "source": [
        "class Faculty:\n",
        "  def __init__(self, industry: str, ID_industry: str, mail: str ):\n",
        "    self.industry = industry\n",
        "    self.ID_industry = ID_industry\n",
        "    self.mail = mail\n",
        "  def __repr__(self):\n",
        "    return('-Industry: {} \\n-ID_industry: {} \\n-mail: {}'.format(self.industry, self.ID_industry, self.mail))"
      ],
      "execution_count": 23,
      "outputs": []
    },
    {
      "cell_type": "code",
      "metadata": {
        "id": "jG5rchbcTz0T",
        "outputId": "3cb40cd7-a00a-4d80-cc93-b0bdeac6b7a3",
        "colab": {
          "base_uri": "https://localhost:8080/"
        }
      },
      "source": [
        "MyClass = Student('Phat Vu','197CT22461','Requirements Engineering','Object-Oriented System Analysis and Design')\n",
        "print(MyClass)"
      ],
      "execution_count": 30,
      "outputs": [
        {
          "output_type": "stream",
          "name": "stdout",
          "text": [
            "-Name : Phat Vu \n",
            "-ID : 197CT22461 \n",
            "-this_course: Requirements Engineering \n",
            "-last_course: Object-Oriented System Analysis and Design\n"
          ]
        }
      ]
    },
    {
      "cell_type": "code",
      "metadata": {
        "id": "j1HBKPmuT8qq",
        "outputId": "243a0fb1-4e21-408a-ef19-494f8256a59d",
        "colab": {
          "base_uri": "https://localhost:8080/"
        }
      },
      "source": [
        "ClassMember = Member('Advanced Python Programming',['Huy','Teo','Ti'])\n",
        "print(ClassMember.course)\n",
        "print(ClassMember.ListMember)"
      ],
      "execution_count": 27,
      "outputs": [
        {
          "output_type": "stream",
          "name": "stdout",
          "text": [
            "Advanced Python Programming\n",
            "['Huy', 'Teo', 'Ti']\n"
          ]
        }
      ]
    },
    {
      "cell_type": "code",
      "metadata": {
        "id": "KrMZ79fTT-6E",
        "outputId": "1889ffab-4cda-40b7-e6c5-d0035d7951ab",
        "colab": {
          "base_uri": "https://localhost:8080/"
        }
      },
      "source": [
        "MyFac = Faculty('Software Engineering','PM','k.cntt@vanlanguni.edu.vn')\n",
        "print(MyFac)"
      ],
      "execution_count": 29,
      "outputs": [
        {
          "output_type": "stream",
          "name": "stdout",
          "text": [
            "-Industry: Software Engineering \n",
            "-ID_industry: PM \n",
            "-mail: k.cntt@vanlanguni.edu.vn\n"
          ]
        }
      ]
    },
    {
      "cell_type": "code",
      "metadata": {
        "id": "iybO9r54UAtu",
        "outputId": "8c69236c-658c-4c41-d3ac-8d946c4cb0d6",
        "colab": {
          "base_uri": "https://localhost:8080/"
        }
      },
      "source": [
        "class Nematode:\n",
        "  def __init__(self, lenght:int, gender:str, age: int):\n",
        "    self.lenght = lenght\n",
        "    self.gender = gender\n",
        "    self.age = age\n",
        "  def __str__(self):\n",
        "    return ('Celegan is : \\n+ lenght {}mm \\n+ gender is {} \\n+ age = {} days '.format(self.lenght, self.gender, self.age))\n",
        "  def __repr__(self):\n",
        "    return ('{} {} {}'.format(self.lenght, self.gender, self.age))\n",
        "Celegan = Nematode(1, 'male', 9)\n",
        "print(Celegan.__str__())\n",
        "print(Celegan.__repr__())"
      ],
      "execution_count": 28,
      "outputs": [
        {
          "output_type": "stream",
          "name": "stdout",
          "text": [
            "Celegan is : \n",
            "+ lenght 1mm \n",
            "+ gender is male \n",
            "+ age = 9 days \n",
            "1 male 9\n"
          ]
        }
      ]
    }
  ]
}