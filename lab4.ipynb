{
  "nbformat": 4,
  "nbformat_minor": 0,
  "metadata": {
    "colab": {
      "name": "Colaboratory chào mừng bạn!",
      "provenance": [],
      "collapsed_sections": [],
      "toc_visible": true,
      "include_colab_link": true
    },
    "kernelspec": {
      "display_name": "Python 3",
      "name": "python3"
    }
  },
  "cells": [
    {
      "cell_type": "markdown",
      "metadata": {
        "id": "view-in-github",
        "colab_type": "text"
      },
      "source": [
        "<a href=\"https://colab.research.google.com/github/VuPhat1303/AdvancedPythonProgramming/blob/main/lab4.ipynb\" target=\"_parent\"><img src=\"https://colab.research.google.com/assets/colab-badge.svg\" alt=\"Open In Colab\"/></a>"
      ]
    },
    {
      "cell_type": "code",
      "metadata": {
        "id": "4CbQgMYnSvry"
      },
      "source": [
        "\n",
        "vowels = {'a', 'e', 'a', 'a', 'i', 'o', 'u', 'u'}\n",
        "print(vowels)"
      ],
      "execution_count": null,
      "outputs": []
    },
    {
      "cell_type": "code",
      "metadata": {
        "id": "ru-a-QwlTEhB"
      },
      "source": [
        "def find_dups(L):\n",
        "  elem_set = set()\n",
        "  dups_set = set()\n",
        "  for entry in L:\n",
        "    len_initial = len(elem_set)\n",
        "    elem_set.add(entry)\n",
        "    len_after = len(elem_set)\n",
        "    if len_initial == len_after:\n",
        "      dups_set.add(entry)\n",
        "  return(dups_set)"
      ],
      "execution_count": 3,
      "outputs": []
    },
    {
      "cell_type": "code",
      "metadata": {
        "id": "FiiAWjroS5C6",
        "outputId": "8bd44d4a-683e-4bfe-e4e7-00845d70aab0",
        "colab": {
          "base_uri": "https://localhost:8080/"
        }
      },
      "source": [
        "\n",
        "find_dups([4,5,6,1,8,2,4,89,1,6,4,5,1,8,2])"
      ],
      "execution_count": 4,
      "outputs": [
        {
          "output_type": "execute_result",
          "data": {
            "text/plain": [
              "{1, 2, 4, 5, 6, 8}"
            ]
          },
          "metadata": {},
          "execution_count": 4
        }
      ]
    },
    {
      "cell_type": "code",
      "metadata": {
        "id": "21CcX2m2TMsi"
      },
      "source": [
        "def mating_pairs(males, females):\n",
        " \"\"\" (set, set) -> set of tuple\n",
        " Return a set of tuples where each tuple contains a male from males \n",
        "and a\n",
        " female from females.\n",
        " >>> mating_pairs({'Anne', 'Beatrice', 'Cari'}, {'Ali', 'Bob', \n",
        "'Chen'})\n",
        " {('Cari', 'Chen'), ('Beatrice', 'Bob'), ('Anne', 'Ali')}\n",
        " \"\"\"\n",
        " pairs = set()\n",
        " num_gerbils = len(males)\n",
        " for i in range(num_gerbils):\n",
        "  male = males.pop()\n",
        "  female = females.pop()\n",
        "  pairs.add((male, female))\n",
        " return pairs"
      ],
      "execution_count": 5,
      "outputs": []
    },
    {
      "cell_type": "code",
      "metadata": {
        "id": "yI_d9878TQDp"
      },
      "source": [
        "males = {'Anna','Jane','Sophia'}\n",
        "females = {'Bob','David','Tom'}\n",
        "def mating_couple(males,females):\n",
        "  couple = set()\n",
        "  for i in range(len(males)):\n",
        "    male = males.pop()\n",
        "    female = females.pop()\n",
        "    couple.add((male, female))\n",
        "  return couple"
      ],
      "execution_count": 6,
      "outputs": []
    },
    {
      "cell_type": "code",
      "metadata": {
        "id": "rgOJTpxBTUuy",
        "outputId": "19756d67-e865-428e-d493-352d15e4c843",
        "colab": {
          "base_uri": "https://localhost:8080/"
        }
      },
      "source": [
        "mating_couple(males,females)\n"
      ],
      "execution_count": 7,
      "outputs": [
        {
          "output_type": "execute_result",
          "data": {
            "text/plain": [
              "{('Anna', 'Tom'), ('Jane', 'Bob'), ('Sophia', 'David')}"
            ]
          },
          "metadata": {},
          "execution_count": 7
        }
      ]
    },
    {
      "cell_type": "code",
      "metadata": {
        "id": "trRLg8jPTafR"
      },
      "source": [
        "def count_values(dic):\n",
        "  tontai = []\n",
        "  for key, value in dic.items():\n",
        "    tontai.append(value)\n",
        "  for key, value in dic.items():\n",
        "    count = 0\n",
        "    for i in tontai:\n",
        "      if i == value:\n",
        "        count = count + 1\n",
        "    if count == 1:\n",
        "      print(value)"
      ],
      "execution_count": 8,
      "outputs": []
    },
    {
      "cell_type": "code",
      "metadata": {
        "id": "zwmatk1rTdJo",
        "outputId": "657fabb7-1cf3-4a9e-ed65-73301dc94943",
        "colab": {
          "base_uri": "https://localhost:8080/"
        }
      },
      "source": [
        "dic = {'red': 1, 'green': 1, 'blue': 2}\n",
        "count_values(dic)"
      ],
      "execution_count": 9,
      "outputs": [
        {
          "output_type": "stream",
          "name": "stdout",
          "text": [
            "2\n"
          ]
        }
      ]
    },
    {
      "cell_type": "code",
      "metadata": {
        "id": "7f0KYc6XThp0"
      },
      "source": [
        "def least(dic):\n",
        "  min = 999999999999999999999999999\n",
        "  for key, value in dic.items():\n",
        "    if value < min:\n",
        "      min = value\n",
        "      str1 = key\n",
        "    else:\n",
        "      continue\n",
        "  for key, value in dic.items():\n",
        "    if key == str1:\n",
        "      print(key)"
      ],
      "execution_count": 10,
      "outputs": []
    },
    {
      "cell_type": "code",
      "metadata": {
        "id": "Ue4fg7qcTkhU",
        "outputId": "abfe158a-4962-4951-d5ed-ff81ac266928",
        "colab": {
          "base_uri": "https://localhost:8080/"
        }
      },
      "source": [
        "nguyentu = {'neutron': 0.55, 'proton': 0.21, 'meson': 0.03, 'muon': 0.07, 'neutrino': 0.80}\n",
        "least(nguyentu)\n"
      ],
      "execution_count": 11,
      "outputs": [
        {
          "output_type": "stream",
          "name": "stdout",
          "text": [
            "meson\n"
          ]
        }
      ]
    },
    {
      "cell_type": "code",
      "metadata": {
        "id": "NmM2fL9PTmxx"
      },
      "source": [
        "def count(dic):\n",
        "  count = []\n",
        "  for key, value in dic.items():\n",
        "    if value in count:\n",
        "      print(value)\n",
        "    else:\n",
        "      count.append(value)"
      ],
      "execution_count": 12,
      "outputs": []
    },
    {
      "cell_type": "code",
      "metadata": {
        "id": "OAFPDdd6Tq-y",
        "outputId": "d14aeda4-3e00-4779-a96f-bfdfd02150d9",
        "colab": {
          "base_uri": "https://localhost:8080/"
        }
      },
      "source": [
        "dic = {'red': 1, 'green': 1, 'blue': 2}\n",
        "count(dic)"
      ],
      "execution_count": 14,
      "outputs": [
        {
          "output_type": "stream",
          "name": "stdout",
          "text": [
            "1\n"
          ]
        }
      ]
    },
    {
      "cell_type": "code",
      "metadata": {
        "id": "8bv9cwXkTrbK"
      },
      "source": [
        "def is_balanced(dic):\n",
        "  balanced=0\n",
        "  for key, value in dic.items():\n",
        "    balanced += value\n",
        "  if balanced == 1:\n",
        "    return True\n",
        "  else:\n",
        "    return False"
      ],
      "execution_count": 13,
      "outputs": []
    },
    {
      "cell_type": "code",
      "metadata": {
        "id": "x8Pg1KZ9TrjK",
        "outputId": "bb354a48-fd8a-421e-8cb8-f85d7e24600e",
        "colab": {
          "base_uri": "https://localhost:8080/"
        }
      },
      "source": [
        "\n",
        "color = {'R':0.3,'G':0.3,'B':0.2}\n",
        "is_balanced(color)"
      ],
      "execution_count": 15,
      "outputs": [
        {
          "output_type": "execute_result",
          "data": {
            "text/plain": [
              "False"
            ]
          },
          "metadata": {},
          "execution_count": 15
        }
      ]
    },
    {
      "cell_type": "code",
      "metadata": {
        "id": "J_ha2zXmTzui"
      },
      "source": [
        "def dict_intersect(dic1,dic2):\n",
        "  dic3 = {}\n",
        "  for key, value in dic1.items():\n",
        "    for key1, value1 in dic2.items():\n",
        "      if ((key == key1) and (value ==value1)):\n",
        "        dic3[key] = value\n",
        "  return dic3"
      ],
      "execution_count": 16,
      "outputs": []
    },
    {
      "cell_type": "code",
      "metadata": {
        "id": "I2_NUkjrTzxS",
        "outputId": "f54ecf75-59ad-41cb-e043-aca82f8aaacb",
        "colab": {
          "base_uri": "https://localhost:8080/"
        }
      },
      "source": [
        "dic1 = {'red': 1, 'green': 1, 'blue': 2}\n",
        "dic2 = {'red': 1, 'green': 5, 'blue': 2, 'black': 4}\n",
        "dict_intersect(dic1,dic2)"
      ],
      "execution_count": 17,
      "outputs": [
        {
          "output_type": "execute_result",
          "data": {
            "text/plain": [
              "{'blue': 2, 'red': 1}"
            ]
          },
          "metadata": {},
          "execution_count": 17
        }
      ]
    },
    {
      "cell_type": "code",
      "metadata": {
        "id": "bN-uRawzT4VN"
      },
      "source": [
        "dic={'jgoodall' : {'surname' : 'Goodall',\n",
        "'forename' : 'Jane',\n",
        "'born' : 1934,\n",
        "'died' : None,\n",
        "'notes' : 'primate researcher',\n",
        "'author' : ['In the Shadow of Man',\n",
        "'The Chimpanzees of Gombe']},\n",
        "'rfranklin' : {'surname' : 'Franklin',\n",
        "'forename' : 'Rosalind',\n",
        "'born' : 1920,\n",
        "'died' : 1957,\n",
        "'notes' : 'contributed to discovery of DNA'},\n",
        "'rcarson' : {'surname' : 'Carson',\n",
        "'forename' : 'Rachel',\n",
        "'born' : 1907,\n",
        "'died' : 1964,\n",
        "'notes' : 'raised awareness of effects of DDT',\n",
        "'author' : ['Silent Spring']}\n",
        "}\n",
        "def db_headings(str1):\n",
        "  str1 = input('Nhập vào tên nhà khoa học muốn tìm: ')\n",
        "  idonnow = set()\n",
        "  for key,value in dic.items():\n",
        "    if (key == str1):\n",
        "      dic_temp = value\n",
        "  for key1, value1 in dic_temp.items():\n",
        "    idonnow.add(key1)\n",
        "  return idonnow\n",
        "  db_headings(name)"
      ],
      "execution_count": 18,
      "outputs": []
    },
    {
      "cell_type": "code",
      "metadata": {
        "id": "wCLoBssBT7FK"
      },
      "source": [
        "def test(dic):\n",
        "  set1 = db_headings(name)\n",
        "  set2 =db_headings(name)\n",
        "  if (set1 == set2):\n",
        "    return True\n",
        "  else:\n",
        "    return False\n",
        "    test(dic)"
      ],
      "execution_count": 19,
      "outputs": []
    }
  ]
}